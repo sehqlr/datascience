{
 "cells": [
  {
   "cell_type": "markdown",
   "metadata": {},
   "source": [
    "## OpenDataSTL demo\n",
    "\n",
    "This notebook is going to demo a visualization for citations in the St. Louis area. Specifically, I was wondering if there was any interesting patterns between the location of a citation and where the defendent lives.\n",
    "\n",
    "### WARNING\n",
    "The data used in this demo is not attested by any authority. The conclusions here must be taken with salt."
   ]
  },
  {
   "cell_type": "code",
   "execution_count": 1,
   "metadata": {
    "collapsed": false
   },
   "outputs": [
    {
     "name": "stdout",
     "output_type": "stream",
     "text": [
      "pandas version:  0.17.0\n",
      "numpy version:  1.8.2\n",
      "matplotlib version:  1.4.2\n"
     ]
    }
   ],
   "source": [
    "## MAGIC & IMPORTS\n",
    "%matplotlib inline\n",
    "\n",
    "import pandas as pd\n",
    "import numpy as np\n",
    "import matplotlib\n",
    "import matplotlib.pyplot as plt\n",
    "\n",
    "print(\"pandas version: \", pd.__version__)\n",
    "print(\"numpy version: \", np.__version__)\n",
    "print(\"matplotlib version: \", matplotlib.__version__)"
   ]
  },
  {
   "cell_type": "markdown",
   "metadata": {},
   "source": [
    "My two data sources are the dummy data files that Global Hack V teams received in mid-September. Two files were provided, `citations.csv` and `violations.csv`, and both are read into the program."
   ]
  },
  {
   "cell_type": "code",
   "execution_count": 2,
   "metadata": {
    "collapsed": false
   },
   "outputs": [],
   "source": [
    "citations = pd.read_csv('citations.csv')\n",
    "violations = pd.read_csv('violations.csv')"
   ]
  },
  {
   "cell_type": "code",
   "execution_count": 3,
   "metadata": {
    "collapsed": true
   },
   "outputs": [],
   "source": [
    "citations['defendant_city'] = citations['defendant_city__c']\n",
    "citations['court_location'] = citations['court_location__c']"
   ]
  },
  {
   "cell_type": "markdown",
   "metadata": {},
   "source": [
    "### Relation between defendant's residence and location of citation\n",
    "\n",
    "One thing that I was wondering about with the problem of the municipal court system, is whether or not there is a link between where someone lives and where the citation is made. I have listed the `defendant_city` and the `court_location` below."
   ]
  },
  {
   "cell_type": "code",
   "execution_count": 4,
   "metadata": {
    "collapsed": false
   },
   "outputs": [
    {
     "data": {
      "text/html": [
       "<div>\n",
       "<table border=\"1\" class=\"dataframe\">\n",
       "  <thead>\n",
       "    <tr style=\"text-align: right;\">\n",
       "      <th></th>\n",
       "      <th>defendant_city</th>\n",
       "      <th>court_location</th>\n",
       "    </tr>\n",
       "  </thead>\n",
       "  <tbody>\n",
       "    <tr>\n",
       "      <th>0</th>\n",
       "      <td>HAZELWOOD</td>\n",
       "      <td>ST. LOUIS CITY</td>\n",
       "    </tr>\n",
       "    <tr>\n",
       "      <th>1</th>\n",
       "      <td>PASADENA PARK</td>\n",
       "      <td>ST. LOUIS CITY</td>\n",
       "    </tr>\n",
       "    <tr>\n",
       "      <th>2</th>\n",
       "      <td>NORTHWOODS</td>\n",
       "      <td>ST. LOUIS CITY</td>\n",
       "    </tr>\n",
       "    <tr>\n",
       "      <th>3</th>\n",
       "      <td>MAPLEWOOD</td>\n",
       "      <td>ST. LOUIS CITY</td>\n",
       "    </tr>\n",
       "    <tr>\n",
       "      <th>4</th>\n",
       "      <td>CALVERTON PARK</td>\n",
       "      <td>OLIVETTE</td>\n",
       "    </tr>\n",
       "    <tr>\n",
       "      <th>5</th>\n",
       "      <td>FENTON</td>\n",
       "      <td>OLIVETTE</td>\n",
       "    </tr>\n",
       "    <tr>\n",
       "      <th>6</th>\n",
       "      <td>CLAYTON</td>\n",
       "      <td>OLIVETTE</td>\n",
       "    </tr>\n",
       "    <tr>\n",
       "      <th>7</th>\n",
       "      <td>CRESTWOOD</td>\n",
       "      <td>OAKLAND</td>\n",
       "    </tr>\n",
       "    <tr>\n",
       "      <th>8</th>\n",
       "      <td>CRYSTAL LAKE PARK</td>\n",
       "      <td>WELLSTON</td>\n",
       "    </tr>\n",
       "    <tr>\n",
       "      <th>9</th>\n",
       "      <td>MACKENZIE</td>\n",
       "      <td>WELLSTON</td>\n",
       "    </tr>\n",
       "    <tr>\n",
       "      <th>10</th>\n",
       "      <td>BRECKENRIDGE HILLS</td>\n",
       "      <td>OAKLAND</td>\n",
       "    </tr>\n",
       "    <tr>\n",
       "      <th>11</th>\n",
       "      <td>CREVE COEUR</td>\n",
       "      <td>WELLSTON</td>\n",
       "    </tr>\n",
       "    <tr>\n",
       "      <th>12</th>\n",
       "      <td>BRECKENRIDGE HILLS</td>\n",
       "      <td>OAKLAND</td>\n",
       "    </tr>\n",
       "    <tr>\n",
       "      <th>13</th>\n",
       "      <td>MOLINE ACRES</td>\n",
       "      <td>OAKLAND</td>\n",
       "    </tr>\n",
       "    <tr>\n",
       "      <th>14</th>\n",
       "      <td>CLAYTON</td>\n",
       "      <td>OAKLAND</td>\n",
       "    </tr>\n",
       "    <tr>\n",
       "      <th>15</th>\n",
       "      <td>ROCK HILL</td>\n",
       "      <td>WELLSTON</td>\n",
       "    </tr>\n",
       "    <tr>\n",
       "      <th>16</th>\n",
       "      <td>OLIVETTE</td>\n",
       "      <td>WELLSTON</td>\n",
       "    </tr>\n",
       "    <tr>\n",
       "      <th>17</th>\n",
       "      <td>JENNINGS</td>\n",
       "      <td>OAKLAND</td>\n",
       "    </tr>\n",
       "    <tr>\n",
       "      <th>18</th>\n",
       "      <td>CHESTERFIELD</td>\n",
       "      <td>OAKLAND</td>\n",
       "    </tr>\n",
       "    <tr>\n",
       "      <th>19</th>\n",
       "      <td>BELLA VILLA</td>\n",
       "      <td>WELLSTON</td>\n",
       "    </tr>\n",
       "  </tbody>\n",
       "</table>\n",
       "</div>"
      ],
      "text/plain": [
       "        defendant_city  court_location\n",
       "0            HAZELWOOD  ST. LOUIS CITY\n",
       "1        PASADENA PARK  ST. LOUIS CITY\n",
       "2           NORTHWOODS  ST. LOUIS CITY\n",
       "3            MAPLEWOOD  ST. LOUIS CITY\n",
       "4       CALVERTON PARK        OLIVETTE\n",
       "5               FENTON        OLIVETTE\n",
       "6              CLAYTON        OLIVETTE\n",
       "7            CRESTWOOD         OAKLAND\n",
       "8    CRYSTAL LAKE PARK        WELLSTON\n",
       "9            MACKENZIE        WELLSTON\n",
       "10  BRECKENRIDGE HILLS         OAKLAND\n",
       "11         CREVE COEUR        WELLSTON\n",
       "12  BRECKENRIDGE HILLS         OAKLAND\n",
       "13        MOLINE ACRES         OAKLAND\n",
       "14             CLAYTON         OAKLAND\n",
       "15           ROCK HILL        WELLSTON\n",
       "16            OLIVETTE        WELLSTON\n",
       "17            JENNINGS         OAKLAND\n",
       "18        CHESTERFIELD         OAKLAND\n",
       "19         BELLA VILLA        WELLSTON"
      ]
     },
     "execution_count": 4,
     "metadata": {},
     "output_type": "execute_result"
    }
   ],
   "source": [
    "citations[['defendant_city','court_location']].head(n=20)"
   ]
  },
  {
   "cell_type": "markdown",
   "metadata": {},
   "source": [
    "### Suppose they are mostly equal\n",
    "\n",
    "If citations are mostly issued by citizens of the municipality, I expect a large percentage of the `defendant_city` to contain the same text as `court_location`. There are municipalities that do not have their own courts, so keep that in mind."
   ]
  },
  {
   "cell_type": "code",
   "execution_count": 5,
   "metadata": {
    "collapsed": false
   },
   "outputs": [
    {
     "name": "stdout",
     "output_type": "stream",
     "text": [
      "Number of matching cities:  11\n",
      "Number of unmatching cities:  987\n"
     ]
    },
    {
     "data": {
      "text/plain": [
       "([<matplotlib.patches.Wedge at 0x7fcc90533dd8>,\n",
       "  <matplotlib.patches.Wedge at 0x7fcc9053da20>],\n",
       " [<matplotlib.text.Text at 0x7fcc9053d588>,\n",
       "  <matplotlib.text.Text at 0x7fcc90546208>])"
      ]
     },
     "execution_count": 5,
     "metadata": {},
     "output_type": "execute_result"
    },
    {
     "data": {
      "image/png": "[encoded data removed]",
      "text/plain": [
       "<matplotlib.figure.Figure at 0x7fcc905dd5c0>"
      ]
     },
     "metadata": {},
     "output_type": "display_data"
    }
   ],
   "source": [
    "matching_cities = citations[citations['defendant_city'] == citations['court_location']]\n",
    "print(\"Number of matching cities: \", len(matching_cities))\n",
    "\n",
    "unmatching_cities = citations[citations['defendant_city'] != citations['court_location']]\n",
    "print(\"Number of unmatching cities: \", len(unmatching_cities))\n",
    "\n",
    "plt.figure(figsize=(8,8))\n",
    "plt.pie([len(matching_cities), len(unmatching_cities)], labels=[\"Matching Cities: \" + str(len(matching_cities)), \n",
    "                                                                \"Unmatching Cities \" + str(len(unmatching_cities))])"
   ]
  },
  {
   "cell_type": "markdown",
   "metadata": {},
   "source": [
    "### Suppose that my intuition is way off, or that I don't know what I'm doing\n",
    "\n",
    "I was actually suprised by this result. Was there really only 11 records where the locations matched?\n",
    "\n",
    "This could be the result of how the dummy data was generated or sourced. However, this entire demo is based around the assumption that this data is a representation of real data, so that doesn't raise any interesting questions.\n",
    "\n",
    "So, what else is wrong could be causing this result? I have not done any processing at all on the data that I'm looking at, so it could be that the values in the two columns that I'm interested in don't align. \n",
    "\n",
    "Let's check that."
   ]
  },
  {
   "cell_type": "code",
   "execution_count": 6,
   "metadata": {
    "collapsed": false
   },
   "outputs": [
    {
     "name": "stdout",
     "output_type": "stream",
     "text": [
      "Defendant cities:  91\n",
      "Court Cities 85\n",
      "Cities that are in court_location but not in defendant_city: \n",
      " ['BERKELEY 1', 'BERKELEY 2', 'ST. JOHN', 'TOWN AND COUNTRY', 'UNINCORPORATED CENTRAL ST. LOUIS COUNTY', 'UNINCORPORATED NORTH ST. LOUIS COUNTY', 'UNINCORPORATED SOUTH ST. LOUIS COUNTY', 'UNINCORPORATED WEST ST. LOUIS COUNTY'] \n",
      "\n",
      "Cities that are in defandent_city but not in court_location: \n",
      " ['BELLERIVE', 'BERKELEY', 'CHAMP', 'COUNTRY LIFE ACRES', 'CRYSTAL LAKE PARK', 'GLEN ECHO PARK', 'GREEN PARK', 'HUNTLEIGH', 'NORWOOD COURT', 'ST. GEORGE', 'TOWN & COUNTRY', 'TWIN OAKS', 'WESTWOOD', 'WILBUR PARK'] \n",
      "\n"
     ]
    }
   ],
   "source": [
    "defendant_cities = [defendant for defendant in citations['defendant_city'].astype(\"category\").cat.categories]\n",
    "court_cities = [court for court in citations['court_location'].astype(\"category\").cat.categories]\n",
    "print(\"Defendant cities: \", len(defendant_cities))\n",
    "print(\"Court Cities\", len(court_cities))\n",
    "\n",
    "unmatched_court_cities = [city for city in court_cities if city not in defendant_cities]\n",
    "unmatched_defendant_cities = [city for city in defendant_cities if city not in court_cities]\n",
    "print(\"Cities that are in court_location but not in defendant_city: \\n\", unmatched_court_cities, \"\\n\")\n",
    "print(\"Cities that are in defandent_city but not in court_location: \\n\", unmatched_defendant_cities, \"\\n\")"
   ]
  },
  {
   "cell_type": "markdown",
   "metadata": {},
   "source": [
    "Well, this is interesting. There are two `BERKELEY` court locations that are marked differently, and then there is the slight difference between `TOWN AND COUNTRY` and `TOWN & COUNTRY`. \n",
    "\n",
    "However, the biggest discrepancy here is that the `UNINCORPORATED` records in the court locations. Clearly, these areas have names that the locals use, but the county bundles them together. "
   ]
  },
  {
   "cell_type": "code",
   "execution_count": 7,
   "metadata": {
    "collapsed": false
   },
   "outputs": [
    {
     "name": "stdout",
     "output_type": "stream",
     "text": [
      "Number of citations in unmatched court locations:  80\n",
      "Breakdown by location:\n",
      "\n",
      "BERKELEY 1                                 14\n",
      "BERKELEY 2                                 10\n",
      "ST. JOHN                                    5\n",
      "TOWN AND COUNTRY                           13\n",
      "UNINCORPORATED CENTRAL ST. LOUIS COUNTY    11\n",
      "UNINCORPORATED NORTH ST. LOUIS COUNTY      12\n",
      "UNINCORPORATED SOUTH ST. LOUIS COUNTY       7\n",
      "UNINCORPORATED WEST ST. LOUIS COUNTY        8\n",
      "dtype: int64\n"
     ]
    }
   ],
   "source": [
    "court_location_value_counts = citations['court_location'].astype(\"category\").value_counts()\n",
    "print(\"Number of citations in unmatched court locations: \", court_location_value_counts[unmatched_court_cities].sum())\n",
    "print(\"Breakdown by location:\\n\")\n",
    "print(court_location_value_counts[unmatched_court_cities])"
   ]
  },
  {
   "cell_type": "code",
   "execution_count": 8,
   "metadata": {
    "collapsed": false
   },
   "outputs": [
    {
     "name": "stdout",
     "output_type": "stream",
     "text": [
      "Number of citations in unmatched defendant cities:  144\n",
      "Breakdown by location:\n",
      "\n",
      "BELLERIVE              5\n",
      "BERKELEY               8\n",
      "CHAMP                 10\n",
      "COUNTRY LIFE ACRES     8\n",
      "CRYSTAL LAKE PARK     21\n",
      "GLEN ECHO PARK         5\n",
      "GREEN PARK            15\n",
      "HUNTLEIGH              1\n",
      "NORWOOD COURT          8\n",
      "ST. GEORGE             7\n",
      "TOWN & COUNTRY         4\n",
      "TWIN OAKS             11\n",
      "WESTWOOD              15\n",
      "WILBUR PARK           26\n",
      "dtype: int64\n"
     ]
    }
   ],
   "source": [
    "defendant_city_value_counts = citations['defendant_city'].astype(\"category\").value_counts()\n",
    "print(\"Number of citations in unmatched defendant cities: \", defendant_city_value_counts[unmatched_defendant_cities].sum())\n",
    "print(\"Breakdown by location:\\n\")\n",
    "print(defendant_city_value_counts[unmatched_defendant_cities])"
   ]
  },
  {
   "cell_type": "markdown",
   "metadata": {},
   "source": [
    "### Incomplete, Inconclusive conclusions\n",
    "Take a look at Town and Country's data. It says in our data that people who have a home address in Town and Country were cited 4 times for traffic violations. However, there were 12 citations issued from that same police department. \n",
    "\n",
    "The total citations issued in the two Berkeleys is 24, and the number of citations to Berkeley home addresses is 8. \n",
    "\n",
    "I cannot draw true conclusions from either of these observations. I don't know how to calculate statistical significance, but more importantly, there is no way that these are enough observations.\n",
    "\n",
    "The next thing to do is to construct a matrix. One axis is going to be the court locations, and the other is going to be defendant cities. The value of each cell is going to count how many citations were issued."
   ]
  },
  {
   "cell_type": "code",
   "execution_count": null,
   "metadata": {
    "collapsed": true
   },
   "outputs": [],
   "source": []
  }
 ],
 "metadata": {
  "kernelspec": {
   "display_name": "Python 3",
   "language": "python",
   "name": "python3"
  },
  "language_info": {
   "codemirror_mode": {
    "name": "ipython",
    "version": 3
   },
   "file_extension": ".py",
   "mimetype": "text/x-python",
   "name": "python",
   "nbconvert_exporter": "python",
   "pygments_lexer": "ipython3",
   "version": "3.4.2"
  }
 },
 "nbformat": 4,
 "nbformat_minor": 0
}
